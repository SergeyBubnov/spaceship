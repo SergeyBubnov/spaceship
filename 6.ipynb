{
 "cells": [
  {
   "cell_type": "code",
   "execution_count": 2,
   "metadata": {},
   "outputs": [],
   "source": [
    "import ds\n",
    "import numpy as np\n",
    "import pandas as pd\n",
    "import matplotlib.pyplot as plt\n",
    "import seaborn as sb\n",
    "from matplotlib.colors import ListedColormap\n",
    "import math\n",
    "\n",
    "df = pd.read_csv(\"Cleaned_DF.csv\")\n",
    "df.drop(\"Unnamed: 0\", axis = 1, inplace = True)"
   ]
  },
  {
   "cell_type": "code",
   "execution_count": 3,
   "metadata": {},
   "outputs": [
    {
     "data": {
      "text/plain": [
       "(4447, 12)"
      ]
     },
     "execution_count": 3,
     "metadata": {},
     "output_type": "execute_result"
    }
   ],
   "source": [
    "mask1 = (df['CryoSleep']==0)&(df['Age']>12.5)\n",
    "features = ['Age','VIP','RoomService','FoodCourt','ShoppingMall','Spa','VRDeck','Deck','Num','Side','route']\n",
    "dz = df[mask1][features+[\"Transported\"]]\n",
    "dz.shape"
   ]
  },
  {
   "attachments": {},
   "cell_type": "markdown",
   "metadata": {},
   "source": [
    "LDA"
   ]
  },
  {
   "cell_type": "code",
   "execution_count": 4,
   "metadata": {},
   "outputs": [
    {
     "name": "stdout",
     "output_type": "stream",
     "text": [
      "MV 1: [-5.3163e-03  1.5682e-04  1.0700e-01 -1.6002e-01 -1.1772e-01  1.0652e-01\n",
      "  9.5508e-02  5.1048e-02  2.4304e-02 -7.8162e-02 -3.3554e-02]\n",
      "\n",
      "MV 2: [ 1.2183e-02 -3.5937e-04 -2.4522e-01  3.6670e-01  2.6977e-01 -2.4411e-01\n",
      " -2.1887e-01 -1.1698e-01 -5.5695e-02  1.7912e-01  7.6894e-02]\n",
      "\n",
      "Собственные значения в порядке убывания:\n",
      "\n",
      "72.73116159903164\n",
      "5.133709152066172e-15\n",
      "3.621852494608057e-15\n",
      "3.621852494608057e-15\n",
      "2.4468366115081742e-15\n",
      "2.4468366115081742e-15\n",
      "1.5887279651635437e-15\n",
      "1.5887279651635437e-15\n",
      "7.400643540543546e-16\n",
      "1.1478325606486888e-16\n",
      "0.0\n"
     ]
    },
    {
     "data": {
      "image/png": "[encoded data removed]",
      "text/plain": [
       "<Figure size 640x480 with 1 Axes>"
      ]
     },
     "metadata": {},
     "output_type": "display_data"
    }
   ],
   "source": [
    "from sklearn.preprocessing import StandardScaler\n",
    "sc = StandardScaler()\n",
    "y = dz[\"Transported\"]\n",
    "X = dz[features]\n",
    "X_std = sc.fit_transform(X)\n",
    "\n",
    "np.set_printoptions(precision = 4)\n",
    "mean_vecs = []\n",
    "labels = [-1.0,1.0]\n",
    "for label in range(1,len(labels)+1):\n",
    "    mean_vecs.append(np.mean(X_std[y == labels[label-1]],axis = 0))\n",
    "    print('MV %s: %s\\n'%(label,mean_vecs[label-1]))\n",
    "\n",
    "d = len(features)\n",
    "S_W = np.zeros((d,d))\n",
    "for label , mv in zip(labels , mean_vecs):\n",
    "    class_scatter = np.zeros((d,d))\n",
    "    for row in X_std[y == label]:\n",
    "        row, mv = row.reshape(d,1), mv.reshape(d,1)\n",
    "        class_scatter += (row - mv).dot((row - mv).T)\n",
    "    S_W += class_scatter\n",
    "#print ('Матрица раcсеяния внутри классов: %sx%s'%(S_W.shape[0], S_W.shape[1]))\n",
    "\n",
    "S_W = np.zeros((d,d))\n",
    "for label,mv in zip(labels, mean_vecs):\n",
    "    class_scatter = np.cov(X_std[y==label].T)\n",
    "    S_W += class_scatter\n",
    "#print('Масштабированная матрица рассеяния внутри классов: %sx%s' % (S_W.shape[0], S_W.shape[1]) )\n",
    "\n",
    "mean_overall = np.mean(X_std, axis= 0)\n",
    "S_B = np.zeros((d,d))\n",
    "for i , mean_vec in enumerate(mean_vecs):\n",
    "    n = X_std[y==i+1,:].shape[0]\n",
    "    mean_vec = mean_vec.reshape(d,1)\n",
    "    mean_overall = mean_overall.reshape(d,1)\n",
    "    S_B +=n*(mean_vec - mean_overall).dot((mean_vec - mean_overall).T)\n",
    "#print('Матрица рассеяния между классами: %sx%s'%(S_B.shape[0],S_B.shape[1]))\n",
    "\n",
    "eigen_vals, eigen_vecs = np.linalg.eig(np.linalg.inv(S_W).dot(S_B))\n",
    "\n",
    "eigen_pairs = [(np.abs(eigen_vals[i]),eigen_vecs[:,i]) for i in range(len(eigen_vals))]\n",
    "eigen_pairs=sorted(eigen_pairs, key = lambda k: k[0], reverse = True)\n",
    "\n",
    "print('Собственные значения в порядке убывания:\\n')\n",
    "for eigen_val in eigen_pairs:\n",
    "    print(eigen_val[0])\n",
    "\n",
    "tot = sum(eigen_vals.real)\n",
    "discr = [(i/tot) for i in sorted (eigen_vals.real, reverse = True)]\n",
    "cum_discr = np.cumsum(discr)\n",
    "size = len(features)+1\n",
    "plt.bar(range(1,size),discr, alpha = 0.5, align = 'center',label = 'индивидуальная \"Различимость\"')\n",
    "plt.ylabel(\"Коэффициент 'различимости'\")\n",
    "plt.xlabel('Линейные дискриминанты')\n",
    "plt.legend(loc = 'best')\n",
    "plt.tight_layout()\n",
    "plt.show()"
   ]
  },
  {
   "cell_type": "code",
   "execution_count": 5,
   "metadata": {},
   "outputs": [
    {
     "name": "stdout",
     "output_type": "stream",
     "text": [
      "Матрица W:\n",
      " [[ 0.019 ]\n",
      " [-0.0346]\n",
      " [-0.4079]\n",
      " [ 0.3974]\n",
      " [ 0.2669]\n",
      " [-0.5227]\n",
      " [-0.4919]\n",
      " [-0.1858]\n",
      " [-0.0011]\n",
      " [ 0.2304]\n",
      " [-0.0108]]\n"
     ]
    }
   ],
   "source": [
    "w = eigen_pairs[0][1][:,np.newaxis].real\n",
    "print('Матрица W:\\n',w)"
   ]
  },
  {
   "cell_type": "code",
   "execution_count": null,
   "metadata": {},
   "outputs": [],
   "source": [
    "X_lda = X_std.dot(w)\n",
    "\n",
    "colors = ['r','b']\n",
    "markers = ['s','x']\n",
    "for l,c,m in zip(np.unique(y),colors, markers):\n",
    "    plt.scatter(X_lda[y == l, 0],X_lda[y == l, 1],c = c, label = l, marker = m)\n",
    "\n",
    "plt.xlabel('LD 1')\n",
    "plt.ylabel('LD 2')\n",
    "plt.legend(loc = 'lower left')\n",
    "plt.tight_layout()\n",
    "plt.show"
   ]
  }
 ],
 "metadata": {
  "kernelspec": {
   "display_name": "Python 3",
   "language": "python",
   "name": "python3"
  },
  "language_info": {
   "codemirror_mode": {
    "name": "ipython",
    "version": 3
   },
   "file_extension": ".py",
   "mimetype": "text/x-python",
   "name": "python",
   "nbconvert_exporter": "python",
   "pygments_lexer": "ipython3",
   "version": "3.11.1"
  },
  "orig_nbformat": 4,
  "vscode": {
   "interpreter": {
    "hash": "5238573367df39f7286bb46f9ff5f08f63a01a80960060ce41e3c79b190280fa"
   }
  }
 },
 "nbformat": 4,
 "nbformat_minor": 2
}
