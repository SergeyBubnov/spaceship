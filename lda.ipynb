{
 "cells": [
  {
   "cell_type": "code",
   "execution_count": 9,
   "metadata": {},
   "outputs": [],
   "source": [
    "import ds\n",
    "import numpy as np\n",
    "import pandas as pd\n",
    "import matplotlib.pyplot as plt\n",
    "import seaborn as sb\n",
    "from matplotlib.colors import ListedColormap\n",
    "import math\n",
    "\n",
    "df = pd.read_csv(\"Cleaned_DF.csv\")"
   ]
  },
  {
   "cell_type": "code",
   "execution_count": 10,
   "metadata": {},
   "outputs": [],
   "source": [
    "df.drop(\"Unnamed: 0\", axis = 1, inplace = True)"
   ]
  },
  {
   "cell_type": "code",
   "execution_count": 11,
   "metadata": {},
   "outputs": [
    {
     "data": {
      "text/plain": [
       "(1921, 12)"
      ]
     },
     "execution_count": 11,
     "metadata": {},
     "output_type": "execute_result"
    }
   ],
   "source": [
    "mask1 = (df['CryoSleep'] == 0)&(df['route']>3.5)&(df['Age']>12.5)\n",
    "features = ['Age','VIP','RoomService','FoodCourt','ShoppingMall','Spa','VRDeck','Deck','Num','Side','route']\n",
    "dz = df[mask1][features+[\"Transported\"]]\n",
    "dz.shape"
   ]
  },
  {
   "cell_type": "code",
   "execution_count": 12,
   "metadata": {},
   "outputs": [
    {
     "data": {
      "text/plain": [
       "array([[ 0.3697, -0.2963, -0.5413, ..., -0.8341, -1.0089,  1.1392],\n",
       "       [ 1.9131,  3.3754, -0.5008, ..., -0.8341,  0.9912,  1.1392],\n",
       "       [-0.1176, -0.2963, -0.5413, ..., -0.8341,  0.9912,  1.1392],\n",
       "       ...,\n",
       "       [ 0.5322,  3.3754, -0.5413, ..., -0.6017, -1.0089,  0.4342],\n",
       "       [-0.1989, -0.2963, -0.5413, ...,  0.6079,  0.9912,  0.4342],\n",
       "       [ 0.7759, -0.2963, -0.4225, ...,  0.6079,  0.9912,  1.1392]])"
      ]
     },
     "execution_count": 12,
     "metadata": {},
     "output_type": "execute_result"
    }
   ],
   "source": [
    "from sklearn.preprocessing import StandardScaler\n",
    "sc = StandardScaler()\n",
    "#X = dz.drop(\"Transported\",axis = 1)\n",
    "y = dz[\"Transported\"]\n",
    "X = dz[features]\n",
    "X_std = sc.fit_transform(X)\n",
    "X_std"
   ]
  },
  {
   "cell_type": "code",
   "execution_count": 13,
   "metadata": {},
   "outputs": [
    {
     "name": "stdout",
     "output_type": "stream",
     "text": [
      "MV 1: [-0.0112  0.0021  0.1419 -0.2287 -0.1118  0.1372  0.123   0.1017  0.0451\n",
      " -0.0773 -0.1223]\n",
      "\n",
      "MV 2: [ 0.0251 -0.0048 -0.3185  0.5133  0.251  -0.308  -0.2762 -0.2283 -0.1013\n",
      "  0.1736  0.2746]\n",
      "\n"
     ]
    }
   ],
   "source": [
    "np.set_printoptions(precision = 4)\n",
    "mean_vecs = []\n",
    "labels = [-1.0,1.0]\n",
    "for label in range(1,len(labels)+1):\n",
    "    mean_vecs.append(np.mean(X_std[y == labels[label-1]],axis = 0))\n",
    "    print('MV %s: %s\\n'%(label,mean_vecs[label-1]))"
   ]
  },
  {
   "cell_type": "code",
   "execution_count": 14,
   "metadata": {},
   "outputs": [
    {
     "name": "stdout",
     "output_type": "stream",
     "text": [
      "Матрица раассеяния внутри классов: 11x11\n"
     ]
    },
    {
     "data": {
      "text/plain": [
       "array([[ 1920.4625,   180.9975,  -122.2461,   163.258 ,  -170.822 ,\n",
       "          203.7974,   108.1619,  -320.1577,  -147.7775,     8.0866,\n",
       "          341.3528],\n",
       "       [  180.9975,  1920.9806,   -73.4563,   123.1161,   -79.925 ,\n",
       "           -8.0752,   135.005 ,  -240.0303,  -120.6516,   -30.033 ,\n",
       "          136.9031],\n",
       "       [ -122.2461,   -73.4563,  1834.1933,  -217.2815,    26.9175,\n",
       "         -290.2509,  -364.45  ,   431.3881,   257.93  ,    14.0465,\n",
       "         -554.8927],\n",
       "       [  163.258 ,   123.1161,  -217.2815,  1695.5302,  -338.2673,\n",
       "          361.4274,   355.0986,  -614.7199,  -402.0978,     9.78  ,\n",
       "          647.8559],\n",
       "       [ -170.822 ,   -79.925 ,    26.9175,  -338.2673,  1867.0895,\n",
       "          -52.8527,  -100.413 ,   242.8342,   235.9123,   -89.5709,\n",
       "         -287.1956],\n",
       "       [  203.7974,    -8.0752,  -290.2509,   361.4274,   -52.8527,\n",
       "         1839.8005,    48.8693,  -510.8909,  -323.0896,    72.4898,\n",
       "          631.4477],\n",
       "       [  108.1619,   135.005 ,  -364.45  ,   355.0986,  -100.413 ,\n",
       "           48.8693,  1855.7159,  -635.9876,  -371.4912,    40.0555,\n",
       "          691.7083],\n",
       "       [ -320.1577,  -240.0303,   431.3881,  -614.7199,   242.8342,\n",
       "         -510.8909,  -635.9876,  1876.4084,  1174.5534,   -46.3645,\n",
       "        -1377.7801],\n",
       "       [ -147.7775,  -120.6516,   257.93  ,  -402.0978,   235.9123,\n",
       "         -323.0896,  -371.4912,  1174.5534,  1912.2108,   -33.2721,\n",
       "         -913.8181],\n",
       "       [    8.0866,   -30.033 ,    14.0465,     9.78  ,   -89.5709,\n",
       "           72.4898,    40.0555,   -46.3645,   -33.2721,  1895.2147,\n",
       "           88.5703],\n",
       "       [  341.3528,   136.9031,  -554.8927,   647.8559,  -287.1956,\n",
       "          631.4477,   691.7083, -1377.7801,  -913.8181,    88.5703,\n",
       "         1856.4767]])"
      ]
     },
     "execution_count": 14,
     "metadata": {},
     "output_type": "execute_result"
    }
   ],
   "source": [
    "d = len(features)\n",
    "S_W = np.zeros((d,d))\n",
    "for label , mv in zip(labels , mean_vecs):\n",
    "    class_scatter = np.zeros((d,d))\n",
    "    for row in X_std[y == label]:\n",
    "        row, mv = row.reshape(d,1), mv.reshape(d,1)\n",
    "        class_scatter += (row - mv).dot((row - mv).T)\n",
    "    S_W += class_scatter\n",
    "print ('Матрица раассеяния внутри классов: %sx%s'%(S_W.shape[0], S_W.shape[1]))\n",
    "S_W"
   ]
  },
  {
   "cell_type": "code",
   "execution_count": 15,
   "metadata": {},
   "outputs": [
    {
     "name": "stdout",
     "output_type": "stream",
     "text": [
      "Масштабированная матрица рассеяния внутри классов: 11x11\n"
     ]
    },
    {
     "data": {
      "text/plain": [
       "array([[ 1.9658,  0.1667, -0.1054,  0.1786, -0.2572,  0.1618,  0.0876,\n",
       "        -0.3275, -0.1735,  0.0201,  0.3434],\n",
       "       [ 0.1667,  1.9943, -0.0796,  0.1811, -0.1227,  0.0123,  0.1107,\n",
       "        -0.2658, -0.1392, -0.0074,  0.1751],\n",
       "       [-0.1054, -0.0796,  1.5346, -0.2261,  0.0271, -0.2235, -0.2845,\n",
       "         0.3919,  0.2237, -0.0054, -0.4983],\n",
       "       [ 0.1786,  0.1811, -0.2261,  2.3721, -0.5118,  0.3035,  0.3293,\n",
       "        -0.748 , -0.5131,  0.0229,  0.7787],\n",
       "       [-0.2572, -0.1227,  0.0271, -0.5118,  2.6648, -0.054 , -0.1046,\n",
       "         0.2989,  0.3194, -0.1398, -0.3679],\n",
       "       [ 0.1618,  0.0123, -0.2235,  0.3035, -0.054 ,  1.4278,  0.0387,\n",
       "        -0.4186, -0.2695,  0.0697,  0.5125],\n",
       "       [ 0.0876,  0.1107, -0.2845,  0.3293, -0.1046,  0.0387,  1.4517,\n",
       "        -0.5131, -0.3108,  0.0405,  0.5641],\n",
       "       [-0.3275, -0.2658,  0.3919, -0.748 ,  0.2989, -0.4186, -0.5131,\n",
       "         1.9101,  1.2051, -0.1141, -1.4005],\n",
       "       [-0.1735, -0.1392,  0.2237, -0.5131,  0.3194, -0.2695, -0.3108,\n",
       "         1.2051,  1.9288, -0.0811, -0.9548],\n",
       "       [ 0.0201, -0.0074, -0.0054,  0.0229, -0.1398,  0.0697,  0.0405,\n",
       "        -0.1141, -0.0811,  1.9646,  0.1478],\n",
       "       [ 0.3434,  0.1751, -0.4983,  0.7787, -0.3679,  0.5125,  0.5641,\n",
       "        -1.4005, -0.9548,  0.1478,  1.9141]])"
      ]
     },
     "execution_count": 15,
     "metadata": {},
     "output_type": "execute_result"
    }
   ],
   "source": [
    "S_W = np.zeros((d,d))\n",
    "for label,mv in zip(labels, mean_vecs):\n",
    "    class_scatter = np.cov(X_std[y==label].T)\n",
    "    S_W += class_scatter\n",
    "print('Масштабированная матрица рассеяния внутри классов: %sx%s' % (S_W.shape[0], S_W.shape[1]) )\n",
    "S_W\n"
   ]
  },
  {
   "cell_type": "code",
   "execution_count": 16,
   "metadata": {},
   "outputs": [
    {
     "name": "stdout",
     "output_type": "stream",
     "text": [
      "Матрица рассеяния между классами: 11x11\n"
     ]
    },
    {
     "data": {
      "text/plain": [
       "array([[ 7.3790e-02, -1.4002e-02, -9.3771e-01,  1.5113e+00,  7.3897e-01,\n",
       "        -9.0692e-01, -8.1320e-01, -6.7208e-01, -2.9838e-01,  5.1107e-01,\n",
       "         8.0845e-01],\n",
       "       [-1.4002e-02,  2.6568e-03,  1.7793e-01, -2.8676e-01, -1.4022e-01,\n",
       "         1.7209e-01,  1.5430e-01,  1.2753e-01,  5.6617e-02, -9.6975e-02,\n",
       "        -1.5340e-01],\n",
       "       [-9.3771e-01,  1.7793e-01,  1.1916e+01, -1.9205e+01, -9.3908e+00,\n",
       "         1.1525e+01,  1.0334e+01,  8.5407e+00,  3.7918e+00, -6.4946e+00,\n",
       "        -1.0274e+01],\n",
       "       [ 1.5113e+00, -2.8676e-01, -1.9205e+01,  3.0951e+01,  1.5135e+01,\n",
       "        -1.8574e+01, -1.6655e+01, -1.3765e+01, -6.1110e+00,  1.0467e+01,\n",
       "         1.6557e+01],\n",
       "       [ 7.3897e-01, -1.4022e-01, -9.3908e+00,  1.5135e+01,  7.4006e+00,\n",
       "        -9.0825e+00, -8.1439e+00, -6.7306e+00, -2.9881e+00,  5.1182e+00,\n",
       "         8.0963e+00],\n",
       "       [-9.0692e-01,  1.7209e-01,  1.1525e+01, -1.8574e+01, -9.0825e+00,\n",
       "         1.1147e+01,  9.9947e+00,  8.2603e+00,  3.6673e+00, -6.2814e+00,\n",
       "        -9.9363e+00],\n",
       "       [-8.1320e-01,  1.5430e-01,  1.0334e+01, -1.6655e+01, -8.1439e+00,\n",
       "         9.9947e+00,  8.9619e+00,  7.4066e+00,  3.2883e+00, -5.6322e+00,\n",
       "        -8.9095e+00],\n",
       "       [-6.7208e-01,  1.2753e-01,  8.5407e+00, -1.3765e+01, -6.7306e+00,\n",
       "         8.2603e+00,  7.4066e+00,  6.1213e+00,  2.7176e+00, -4.6548e+00,\n",
       "        -7.3634e+00],\n",
       "       [-2.9838e-01,  5.6617e-02,  3.7918e+00, -6.1110e+00, -2.9881e+00,\n",
       "         3.6673e+00,  3.2883e+00,  2.7176e+00,  1.2065e+00, -2.0666e+00,\n",
       "        -3.2691e+00],\n",
       "       [ 5.1107e-01, -9.6975e-02, -6.4946e+00,  1.0467e+01,  5.1182e+00,\n",
       "        -6.2814e+00, -5.6322e+00, -4.6548e+00, -2.0666e+00,  3.5397e+00,\n",
       "         5.5993e+00],\n",
       "       [ 8.0845e-01, -1.5340e-01, -1.0274e+01,  1.6557e+01,  8.0963e+00,\n",
       "        -9.9363e+00, -8.9095e+00, -7.3634e+00, -3.2691e+00,  5.5993e+00,\n",
       "         8.8574e+00]])"
      ]
     },
     "execution_count": 16,
     "metadata": {},
     "output_type": "execute_result"
    }
   ],
   "source": [
    "mean_overall = np.mean(X_std, axis= 0)\n",
    "S_B = np.zeros((d,d))\n",
    "for i , mean_vec in enumerate(mean_vecs):\n",
    "    n = X_std[y==i+1,:].shape[0]\n",
    "    mean_vec = mean_vec.reshape(d,1)\n",
    "    mean_overall = mean_overall.reshape(d,1)\n",
    "    S_B +=n*(mean_vec - mean_overall).dot((mean_vec - mean_overall).T)\n",
    "print('Матрица рассеяния между классами: %sx%s'%(S_B.shape[0],S_B.shape[1]))\n",
    "S_B"
   ]
  },
  {
   "cell_type": "code",
   "execution_count": 17,
   "metadata": {},
   "outputs": [
    {
     "name": "stdout",
     "output_type": "stream",
     "text": [
      "Собственные значения в ппорядке убывания:\n",
      "\n",
      "62.5779849206257\n",
      "2.8629954741121128e-15\n",
      "2.845478243520737e-15\n",
      "2.84521427322575e-15\n",
      "2.84521427322575e-15\n",
      "2.1281974959095596e-15\n",
      "1.52079280819982e-15\n",
      "1.52079280819982e-15\n",
      "5.868563642090776e-16\n",
      "5.868563642090776e-16\n",
      "1.0647039254609064e-16\n"
     ]
    }
   ],
   "source": [
    "eigen_vals, eigen_vecs = np.linalg.eig(np.linalg.inv(S_W).dot(S_B))\n",
    "\n",
    "eigen_pairs = [(np.abs(eigen_vals[i]),eigen_vecs[:,i]) for i in range(len(eigen_vals))]\n",
    "eigen_pairs=sorted(eigen_pairs, key = lambda k: k[0], reverse = True)\n",
    "\n",
    "print('Собственные значения в ппорядке убывания:\\n')\n",
    "for eigen_val in eigen_pairs:\n",
    "    print(eigen_val[0])"
   ]
  },
  {
   "cell_type": "code",
   "execution_count": 18,
   "metadata": {},
   "outputs": [
    {
     "data": {
      "image/png": "[encoded data removed]",
      "text/plain": [
       "<Figure size 432x288 with 1 Axes>"
      ]
     },
     "metadata": {
      "needs_background": "light"
     },
     "output_type": "display_data"
    }
   ],
   "source": [
    "tot = sum(eigen_vals.real)\n",
    "discr = [(i/tot) for i in sorted (eigen_vals.real, reverse = True)]\n",
    "cum_discr = np.cumsum(discr)\n",
    "plt.bar(range(1,12),discr, alpha = 0.5, align = 'center',label = 'индивидуальная \"Различимость\"')\n",
    "plt.ylabel(\"Коэффициент 'различимости'\")\n",
    "plt.xlabel('Линейные дискриминанты')\n",
    "plt.legend(loc = 'best')\n",
    "plt.tight_layout()\n",
    "plt.show()"
   ]
  },
  {
   "cell_type": "code",
   "execution_count": 19,
   "metadata": {},
   "outputs": [
    {
     "name": "stdout",
     "output_type": "stream",
     "text": [
      "Матрица W:\n",
      " [[ 0.0099  0.008 ]\n",
      " [-0.0364  0.2109]\n",
      " [-0.3318 -0.2382]\n",
      " [ 0.378  -0.4193]\n",
      " [ 0.2318  0.1985]\n",
      " [-0.5509  0.3726]\n",
      " [-0.5294 -0.3699]\n",
      " [-0.0905  0.1217]\n",
      " [ 0.0565  0.0784]\n",
      " [ 0.149  -0.1542]\n",
      " [ 0.2727  0.6025]]\n"
     ]
    }
   ],
   "source": [
    "w = np.hstack((eigen_pairs[0][1][:,np.newaxis].real, eigen_pairs[1][1][:,np.newaxis].real))\n",
    "print('Матрица W:\\n',w)"
   ]
  },
  {
   "cell_type": "code",
   "execution_count": 20,
   "metadata": {},
   "outputs": [],
   "source": [
    "X_lda = X_std.dot(w)"
   ]
  },
  {
   "cell_type": "code",
   "execution_count": 21,
   "metadata": {},
   "outputs": [
    {
     "data": {
      "text/plain": [
       "<function matplotlib.pyplot.show(close=None, block=None)>"
      ]
     },
     "execution_count": 21,
     "metadata": {},
     "output_type": "execute_result"
    },
    {
     "data": {
      "image/png": "[encoded data removed]",
      "text/plain": [
       "<Figure size 432x288 with 1 Axes>"
      ]
     },
     "metadata": {
      "needs_background": "light"
     },
     "output_type": "display_data"
    }
   ],
   "source": [
    "colors = ['r','b']\n",
    "markers = ['s','x']\n",
    "for l,c,m in zip(np.unique(y),colors, markers):\n",
    "    plt.scatter(X_lda[y == l, 0],X_lda[y == l, 1],c = c, label = l, marker = m)\n",
    "\n",
    "plt.xlabel('LD 1')\n",
    "plt.ylabel('LD 2')\n",
    "plt.legend(loc = 'lower left')\n",
    "plt.tight_layout()\n",
    "plt.show"
   ]
  },
  {
   "cell_type": "code",
   "execution_count": 22,
   "metadata": {},
   "outputs": [
    {
     "data": {
      "image/png": "[encoded data removed]",
      "text/plain": [
       "<Figure size 432x288 with 1 Axes>"
      ]
     },
     "metadata": {
      "needs_background": "light"
     },
     "output_type": "display_data"
    }
   ],
   "source": [
    "from sklearn.linear_model import LogisticRegression\n",
    "lr = LogisticRegression(solver = 'lbfgs')\n",
    "ppn_test = lr.fit(X_lda,y)\n",
    "ds.plot_decision_regions(X_lda,y,classifier = ppn_test,resolution = 0.01)"
   ]
  },
  {
   "cell_type": "code",
   "execution_count": 23,
   "metadata": {},
   "outputs": [
    {
     "data": {
      "text/plain": [
       "0.8334200937011973"
      ]
     },
     "execution_count": 23,
     "metadata": {},
     "output_type": "execute_result"
    }
   ],
   "source": [
    "lr.score(X_lda,y)"
   ]
  },
  {
   "cell_type": "code",
   "execution_count": 24,
   "metadata": {},
   "outputs": [
    {
     "data": {
      "image/png": "[encoded data removed]",
      "text/plain": [
       "<Figure size 432x288 with 1 Axes>"
      ]
     },
     "metadata": {
      "needs_background": "light"
     },
     "output_type": "display_data"
    }
   ],
   "source": [
    "from sklearn.svm import SVC\n",
    "svm = SVC(kernel = 'rbf', random_state = 1, gamma = 0.1, C =1)\n",
    "ppn_test = svm.fit(X_lda,y)\n",
    "ds.plot_decision_regions(X_lda,y,classifier = ppn_test,resolution = 0.01)"
   ]
  },
  {
   "cell_type": "code",
   "execution_count": 25,
   "metadata": {},
   "outputs": [
    {
     "data": {
      "text/plain": [
       "0.8407079646017699"
      ]
     },
     "execution_count": 25,
     "metadata": {},
     "output_type": "execute_result"
    }
   ],
   "source": [
    "svm.score(X_lda,y)"
   ]
  },
  {
   "cell_type": "code",
   "execution_count": 26,
   "metadata": {},
   "outputs": [
    {
     "data": {
      "image/png": "[encoded data removed]",
      "text/plain": [
       "<Figure size 432x288 with 1 Axes>"
      ]
     },
     "metadata": {
      "needs_background": "light"
     },
     "output_type": "display_data"
    }
   ],
   "source": [
    "from sklearn.neighbors import KNeighborsClassifier\n",
    "knn = KNeighborsClassifier(n_neighbors = 3, p=2, metric = \"minkowski\")\n",
    "ppn_test = knn.fit(X_lda,y)\n",
    "ds.plot_decision_regions(X_lda,y,classifier = ppn_test,resolution = 0.01)"
   ]
  },
  {
   "cell_type": "code",
   "execution_count": 27,
   "metadata": {},
   "outputs": [
    {
     "data": {
      "text/plain": [
       "0.8859968766267569"
      ]
     },
     "execution_count": 27,
     "metadata": {},
     "output_type": "execute_result"
    }
   ],
   "source": [
    "knn.score(X_lda,y)"
   ]
  },
  {
   "cell_type": "code",
   "execution_count": 28,
   "metadata": {},
   "outputs": [
    {
     "name": "stdout",
     "output_type": "stream",
     "text": [
      "Ошибок%:  7.981507622811971\n"
     ]
    }
   ],
   "source": [
    "error_percentage = 100*(0.115*1921 + 1519*0.04 + 103*0.01)/3542\n",
    "print('Ошибок%: ',error_percentage)"
   ]
  }
 ],
 "metadata": {
  "kernelspec": {
   "display_name": "Python 3.8.5 ('base')",
   "language": "python",
   "name": "python3"
  },
  "language_info": {
   "codemirror_mode": {
    "name": "ipython",
    "version": 3
   },
   "file_extension": ".py",
   "mimetype": "text/x-python",
   "name": "python",
   "nbconvert_exporter": "python",
   "pygments_lexer": "ipython3",
   "version": "3.8.5"
  },
  "orig_nbformat": 4,
  "vscode": {
   "interpreter": {
    "hash": "78af5ac604e98fc3690cd4f0e0389ba6a0e2e20eefa43ee3b81103795c2dc7b7"
   }
  }
 },
 "nbformat": 4,
 "nbformat_minor": 2
}
