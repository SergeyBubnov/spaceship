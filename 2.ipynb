{
 "cells": [
  {
   "cell_type": "code",
   "execution_count": null,
   "metadata": {},
   "outputs": [],
   "source": [
    "import ds\n",
    "import numpy as np\n",
    "import pandas as pd\n",
    "import matplotlib.pyplot as plt\n",
    "import seaborn as sb\n",
    "from matplotlib.colors import ListedColormap\n",
    "import math\n",
    "\n",
    "d_clean = pd.read_csv(\"Cleaned_DF.csv\")"
   ]
  },
  {
   "cell_type": "code",
   "execution_count": null,
   "metadata": {},
   "outputs": [],
   "source": [
    "features = ['CryoSleep','Age','VIP','RoomService','FoodCourt','ShoppingMall','Spa','VRDeck','Deck','Num','Side','route']"
   ]
  },
  {
   "cell_type": "code",
   "execution_count": null,
   "metadata": {},
   "outputs": [],
   "source": [
    "data_exploration_tree = ds.divide_frame(dataf = d_clean[d_clean['route']>3.5],columns = features,teacher_column = \"Transported\",classifier = 'Tree', criterion_tree = \"entropy\", depth = 4, random_state_sample = 5,random_state_ppn = 2, fraction = 1)"
   ]
  },
  {
   "cell_type": "markdown",
   "metadata": {},
   "source": [
    "3.5 < route\n",
    "1519 CryoSleep == 1 ==> 1.0 [66,1453]"
   ]
  },
  {
   "cell_type": "code",
   "execution_count": null,
   "metadata": {},
   "outputs": [],
   "source": [
    "mask1 = (d_clean['CryoSleep'] == 1)&(d_clean['route']>3.5)# ==> 1.0"
   ]
  },
  {
   "cell_type": "code",
   "execution_count": null,
   "metadata": {},
   "outputs": [
    {
     "data": {
      "text/plain": [
       "(6156, 14)"
      ]
     },
     "metadata": {},
     "output_type": "display_data"
    }
   ],
   "source": [
    "df_impure = d_clean[~mask1]\n",
    "df_impure.shape"
   ]
  },
  {
   "cell_type": "markdown",
   "metadata": {},
   "source": [
    "From here we try to find other reelations in impure frame"
   ]
  },
  {
   "cell_type": "code",
   "execution_count": null,
   "metadata": {},
   "outputs": [],
   "source": [
    "def sigmoid(x): \n",
    "    return 1/(1+math.exp(-x))"
   ]
  },
  {
   "cell_type": "code",
   "execution_count": null,
   "metadata": {},
   "outputs": [],
   "source": [
    "def z(ppn,x1,x2):\n",
    "    return ppn.w_[0]+ ppn.w_[1]*x1 + ppn.w_[2]*x2"
   ]
  },
  {
   "cell_type": "code",
   "execution_count": null,
   "metadata": {},
   "outputs": [],
   "source": [
    "features = ['RoomService','FoodCourt','ShoppingMall','Spa','VRDeck','Transported']\n",
    "d1 = df_impure[features]\n",
    "\n",
    "sb.pairplot(d1,hue = \"Transported\")"
   ]
  },
  {
   "cell_type": "code",
   "execution_count": null,
   "metadata": {},
   "outputs": [],
   "source": [
    "corrMatrix = d1.corr()\n",
    "\n",
    "sb.heatmap(corrMatrix, annot=True)\n",
    "plt.show()"
   ]
  },
  {
   "cell_type": "code",
   "execution_count": null,
   "metadata": {},
   "outputs": [],
   "source": [
    "col_s = ['FoodCourt','Spa']\n",
    "dz = d1[col_s+[\"Transported\"]]\n",
    "\n",
    "x1_mean = dz[col_s[0]].mean()\n",
    "x1_sigma = dz[col_s[0]].std()\n",
    "\n",
    "x2_mean = dz[col_s[1]].mean()\n",
    "x2_sigma = dz[col_s[1]].std()\n",
    "\n",
    "for i in dz.index:\n",
    "    dz.loc[i,col_s[0]] = (dz.loc[i,col_s[0]] - x1_mean)/x1_sigma\n",
    "    dz.loc[i,col_s[1]] = (dz.loc[i,col_s[1]] - x2_mean)/x2_sigma"
   ]
  },
  {
   "cell_type": "code",
   "execution_count": null,
   "metadata": {},
   "outputs": [],
   "source": [
    "ppn = ds.divide_frame(dataf = dz,columns = col_s,teacher_column = \"Transported\",classifier = 'Perceptron', random_state_sample = 4,random_state_ppn = 3, fraction = 0.7, eta = 0.001, iter = 30,plot = True, res =0.01)"
   ]
  },
  {
   "cell_type": "code",
   "execution_count": null,
   "metadata": {},
   "outputs": [],
   "source": [
    "ppn = ds.divide_frame(dataf = dz,columns = col_s,teacher_column = \"Transported\",classifier = 'SVC', kernel_ = 'rbf', gamma_ = 1, c=1, degree_ = 3, random_state_sample = 1,random_state_ppn = 1, fraction = 0.7, eta = 0.0001, iter = 300,plot = True, res =0.01)"
   ]
  },
  {
   "cell_type": "code",
   "execution_count": null,
   "metadata": {},
   "outputs": [],
   "source": [
    "ppn = ds.divide_frame(dataf = dz,columns = col_s,teacher_column = \"Transported\",classifier = 'SVC', kernel_ = 'poly', gamma_ = 1, c=1, degree_ = 3, random_state_sample = 1,random_state_ppn = 1, fraction = 0.9,plot = True, res =0.01)"
   ]
  },
  {
   "cell_type": "code",
   "execution_count": null,
   "metadata": {},
   "outputs": [],
   "source": [
    "ppn = ds.divide_frame(dataf = dz,columns = col_s,teacher_column = \"Transported\",classifier = 'SVC', kernel_ = 'linear', gamma_ = 1, c=2, random_state_sample = 2,random_state_ppn = 3, fraction = 0.7,plot = True, res =0.01)"
   ]
  },
  {
   "cell_type": "code",
   "execution_count": null,
   "metadata": {},
   "outputs": [],
   "source": [
    "ppn = ds.divide_frame(dataf = dz,columns = col_s,teacher_column = \"Transported\",classifier = 'KNN', dimension = 2, neighbors =2, random_state_sample = 1,random_state_ppn = 1, fraction = 0.9, plot = True, res =0.01)"
   ]
  },
  {
   "cell_type": "code",
   "execution_count": null,
   "metadata": {},
   "outputs": [],
   "source": [
    "ppn = ds.divide_frame(dataf = dz,columns = col_s,teacher_column = \"Transported\",classifier = 'Tree', criterion_tree = \"entropy\", depth = 5, random_state_sample = 1,random_state_ppn = 2, fraction = 0.8,plot = True, res = 0.01)"
   ]
  },
  {
   "cell_type": "code",
   "execution_count": null,
   "metadata": {},
   "outputs": [],
   "source": [
    "ppn = ds.divide_frame(dataf = dz,columns = col_s,teacher_column = \"Transported\",classifier = 'Adaline', random_state_sample = 2,random_state_ppn = 3, fraction = 0.7, eta = 0.0001, iter = 150,plot = True, res = 0.01)"
   ]
  },
  {
   "cell_type": "code",
   "execution_count": null,
   "metadata": {},
   "outputs": [],
   "source": [
    "for i in d1.index:\n",
    "    d1.loc[i,'f1'] = sigmoid(z(ppn,d1.loc[i,col_s[0]],d1.loc[i,col_s[1]]))"
   ]
  },
  {
   "cell_type": "code",
   "execution_count": null,
   "metadata": {},
   "outputs": [],
   "source": [
    "corrMatrix = d1.corr()\n",
    "\n",
    "sb.heatmap(corrMatrix, annot=True)\n",
    "plt.show()"
   ]
  },
  {
   "cell_type": "code",
   "execution_count": null,
   "metadata": {},
   "outputs": [],
   "source": [
    "d1.head(20)"
   ]
  },
  {
   "cell_type": "code",
   "execution_count": null,
   "metadata": {},
   "outputs": [],
   "source": [
    "ppn = ds.divide_frame(dataf = d1,columns = features+['f1'],teacher_column = \"Transported\",classifier = 'Tree', criterion_tree = \"entropy\", depth = 3, random_state_sample = 1,random_state_ppn = 2, fraction = 0.8,plot = False, res = 0.01)"
   ]
  }
 ],
 "metadata": {
  "kernelspec": {
   "display_name": "Python 3.8.5 ('base')",
   "language": "python",
   "name": "python3"
  },
  "language_info": {
   "name": "python",
   "version": "3.8.5"
  },
  "orig_nbformat": 4,
  "vscode": {
   "interpreter": {
    "hash": "78af5ac604e98fc3690cd4f0e0389ba6a0e2e20eefa43ee3b81103795c2dc7b7"
   }
  }
 },
 "nbformat": 4,
 "nbformat_minor": 2
}
